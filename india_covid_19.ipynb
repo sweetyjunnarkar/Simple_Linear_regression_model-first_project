{
 "cells": [
  {
   "cell_type": "code",
   "execution_count": 1,
   "metadata": {},
   "outputs": [],
   "source": [
    "#Importing Necessary Liabraries\n",
    "import pandas as pd\n",
    "import numpy as np\n",
    "import matplotlib.pyplot as plt"
   ]
  },
  {
   "cell_type": "markdown",
   "metadata": {},
   "source": [
    "# About the Dataset"
   ]
  },
  {
   "cell_type": "markdown",
   "metadata": {},
   "source": [
    "The dataset is taken from Kaggle.It is the statevice data of covid 19 cases in India."
   ]
  },
  {
   "cell_type": "code",
   "execution_count": 2,
   "metadata": {},
   "outputs": [],
   "source": [
    "india_covid_19=pd.read_csv(r'covid_19_india.csv',usecols=[\"State/UnionTerritory\",\"Cured\",\"Deaths\",\"Confirmed\"])"
   ]
  },
  {
   "cell_type": "code",
   "execution_count": 3,
   "metadata": {},
   "outputs": [
    {
     "data": {
      "text/html": [
       "<div>\n",
       "<style scoped>\n",
       "    .dataframe tbody tr th:only-of-type {\n",
       "        vertical-align: middle;\n",
       "    }\n",
       "\n",
       "    .dataframe tbody tr th {\n",
       "        vertical-align: top;\n",
       "    }\n",
       "\n",
       "    .dataframe thead th {\n",
       "        text-align: right;\n",
       "    }\n",
       "</style>\n",
       "<table border=\"1\" class=\"dataframe\">\n",
       "  <thead>\n",
       "    <tr style=\"text-align: right;\">\n",
       "      <th></th>\n",
       "      <th>State/UnionTerritory</th>\n",
       "      <th>Cured</th>\n",
       "      <th>Deaths</th>\n",
       "      <th>Confirmed</th>\n",
       "    </tr>\n",
       "  </thead>\n",
       "  <tbody>\n",
       "    <tr>\n",
       "      <th>5845</th>\n",
       "      <td>Maharashtra</td>\n",
       "      <td>584537</td>\n",
       "      <td>24903</td>\n",
       "      <td>808306</td>\n",
       "    </tr>\n",
       "    <tr>\n",
       "      <th>5810</th>\n",
       "      <td>Maharashtra</td>\n",
       "      <td>573559</td>\n",
       "      <td>24583</td>\n",
       "      <td>792541</td>\n",
       "    </tr>\n",
       "    <tr>\n",
       "      <th>5775</th>\n",
       "      <td>Maharashtra</td>\n",
       "      <td>562401</td>\n",
       "      <td>24399</td>\n",
       "      <td>780689</td>\n",
       "    </tr>\n",
       "    <tr>\n",
       "      <th>5740</th>\n",
       "      <td>Maharashtra</td>\n",
       "      <td>554711</td>\n",
       "      <td>24103</td>\n",
       "      <td>764281</td>\n",
       "    </tr>\n",
       "    <tr>\n",
       "      <th>5705</th>\n",
       "      <td>Maharashtra</td>\n",
       "      <td>543170</td>\n",
       "      <td>23775</td>\n",
       "      <td>747995</td>\n",
       "    </tr>\n",
       "    <tr>\n",
       "      <th>...</th>\n",
       "      <td>...</td>\n",
       "      <td>...</td>\n",
       "      <td>...</td>\n",
       "      <td>...</td>\n",
       "    </tr>\n",
       "    <tr>\n",
       "      <th>981</th>\n",
       "      <td>Nagaland</td>\n",
       "      <td>0</td>\n",
       "      <td>0</td>\n",
       "      <td>0</td>\n",
       "    </tr>\n",
       "    <tr>\n",
       "      <th>1047</th>\n",
       "      <td>Nagaland</td>\n",
       "      <td>0</td>\n",
       "      <td>0</td>\n",
       "      <td>0</td>\n",
       "    </tr>\n",
       "    <tr>\n",
       "      <th>1014</th>\n",
       "      <td>Nagaland</td>\n",
       "      <td>0</td>\n",
       "      <td>0</td>\n",
       "      <td>0</td>\n",
       "    </tr>\n",
       "    <tr>\n",
       "      <th>1113</th>\n",
       "      <td>Nagaland</td>\n",
       "      <td>0</td>\n",
       "      <td>0</td>\n",
       "      <td>0</td>\n",
       "    </tr>\n",
       "    <tr>\n",
       "      <th>1080</th>\n",
       "      <td>Nagaland</td>\n",
       "      <td>0</td>\n",
       "      <td>0</td>\n",
       "      <td>0</td>\n",
       "    </tr>\n",
       "  </tbody>\n",
       "</table>\n",
       "<p>5861 rows × 4 columns</p>\n",
       "</div>"
      ],
      "text/plain": [
       "     State/UnionTerritory   Cured  Deaths  Confirmed\n",
       "5845          Maharashtra  584537   24903     808306\n",
       "5810          Maharashtra  573559   24583     792541\n",
       "5775          Maharashtra  562401   24399     780689\n",
       "5740          Maharashtra  554711   24103     764281\n",
       "5705          Maharashtra  543170   23775     747995\n",
       "...                   ...     ...     ...        ...\n",
       "981              Nagaland       0       0          0\n",
       "1047             Nagaland       0       0          0\n",
       "1014             Nagaland       0       0          0\n",
       "1113             Nagaland       0       0          0\n",
       "1080             Nagaland       0       0          0\n",
       "\n",
       "[5861 rows x 4 columns]"
      ]
     },
     "execution_count": 3,
     "metadata": {},
     "output_type": "execute_result"
    }
   ],
   "source": [
    "india_covid_19.sort_values('Confirmed', ascending= False)"
   ]
  },
  {
   "cell_type": "markdown",
   "metadata": {},
   "source": [
    "For more understanding the state vice data I have added one more column of \"Active\" cases in india from the given data."
   ]
  },
  {
   "cell_type": "code",
   "execution_count": 4,
   "metadata": {},
   "outputs": [
    {
     "name": "stderr",
     "output_type": "stream",
     "text": [
      "<ipython-input-4-55dedb99e6e7>:1: FutureWarning: Indexing with multiple keys (implicitly converted to a tuple of keys) will be deprecated, use a list instead.\n",
      "  state_cases = india_covid_19.groupby('State/UnionTerritory')['Confirmed','Deaths','Cured'].max().reset_index()\n"
     ]
    },
    {
     "data": {
      "text/html": [
       "<div>\n",
       "<style scoped>\n",
       "    .dataframe tbody tr th:only-of-type {\n",
       "        vertical-align: middle;\n",
       "    }\n",
       "\n",
       "    .dataframe tbody tr th {\n",
       "        vertical-align: top;\n",
       "    }\n",
       "\n",
       "    .dataframe thead th {\n",
       "        text-align: right;\n",
       "    }\n",
       "</style>\n",
       "<table border=\"1\" class=\"dataframe\">\n",
       "  <thead>\n",
       "    <tr style=\"text-align: right;\">\n",
       "      <th></th>\n",
       "      <th>State/UnionTerritory</th>\n",
       "      <th>Confirmed</th>\n",
       "      <th>Deaths</th>\n",
       "      <th>Cured</th>\n",
       "      <th>Active</th>\n",
       "    </tr>\n",
       "  </thead>\n",
       "  <tbody>\n",
       "    <tr>\n",
       "      <th>22</th>\n",
       "      <td>Maharashtra</td>\n",
       "      <td>808306</td>\n",
       "      <td>24903</td>\n",
       "      <td>584537</td>\n",
       "      <td>198866</td>\n",
       "    </tr>\n",
       "    <tr>\n",
       "      <th>1</th>\n",
       "      <td>Andhra Pradesh</td>\n",
       "      <td>445139</td>\n",
       "      <td>4053</td>\n",
       "      <td>339876</td>\n",
       "      <td>101210</td>\n",
       "    </tr>\n",
       "    <tr>\n",
       "      <th>32</th>\n",
       "      <td>Tamil Nadu</td>\n",
       "      <td>433969</td>\n",
       "      <td>7418</td>\n",
       "      <td>374172</td>\n",
       "      <td>52379</td>\n",
       "    </tr>\n",
       "    <tr>\n",
       "      <th>18</th>\n",
       "      <td>Karnataka</td>\n",
       "      <td>351481</td>\n",
       "      <td>5837</td>\n",
       "      <td>254626</td>\n",
       "      <td>91018</td>\n",
       "    </tr>\n",
       "    <tr>\n",
       "      <th>39</th>\n",
       "      <td>Uttar Pradesh</td>\n",
       "      <td>235757</td>\n",
       "      <td>3542</td>\n",
       "      <td>176677</td>\n",
       "      <td>55538</td>\n",
       "    </tr>\n",
       "    <tr>\n",
       "      <th>11</th>\n",
       "      <td>Delhi</td>\n",
       "      <td>177060</td>\n",
       "      <td>4462</td>\n",
       "      <td>156728</td>\n",
       "      <td>15870</td>\n",
       "    </tr>\n",
       "    <tr>\n",
       "      <th>41</th>\n",
       "      <td>West Bengal</td>\n",
       "      <td>165721</td>\n",
       "      <td>3283</td>\n",
       "      <td>137616</td>\n",
       "      <td>24822</td>\n",
       "    </tr>\n",
       "    <tr>\n",
       "      <th>4</th>\n",
       "      <td>Bihar</td>\n",
       "      <td>138349</td>\n",
       "      <td>621</td>\n",
       "      <td>121560</td>\n",
       "      <td>16168</td>\n",
       "    </tr>\n",
       "    <tr>\n",
       "      <th>35</th>\n",
       "      <td>Telengana</td>\n",
       "      <td>130589</td>\n",
       "      <td>846</td>\n",
       "      <td>97402</td>\n",
       "      <td>32341</td>\n",
       "    </tr>\n",
       "    <tr>\n",
       "      <th>3</th>\n",
       "      <td>Assam</td>\n",
       "      <td>111724</td>\n",
       "      <td>315</td>\n",
       "      <td>86895</td>\n",
       "      <td>24514</td>\n",
       "    </tr>\n",
       "    <tr>\n",
       "      <th>27</th>\n",
       "      <td>Odisha</td>\n",
       "      <td>106561</td>\n",
       "      <td>503</td>\n",
       "      <td>80770</td>\n",
       "      <td>25288</td>\n",
       "    </tr>\n",
       "    <tr>\n",
       "      <th>13</th>\n",
       "      <td>Gujarat</td>\n",
       "      <td>97629</td>\n",
       "      <td>3034</td>\n",
       "      <td>78887</td>\n",
       "      <td>15708</td>\n",
       "    </tr>\n",
       "    <tr>\n",
       "      <th>30</th>\n",
       "      <td>Rajasthan</td>\n",
       "      <td>83163</td>\n",
       "      <td>1069</td>\n",
       "      <td>68124</td>\n",
       "      <td>13970</td>\n",
       "    </tr>\n",
       "    <tr>\n",
       "      <th>19</th>\n",
       "      <td>Kerala</td>\n",
       "      <td>76525</td>\n",
       "      <td>298</td>\n",
       "      <td>53649</td>\n",
       "      <td>22578</td>\n",
       "    </tr>\n",
       "    <tr>\n",
       "      <th>14</th>\n",
       "      <td>Haryana</td>\n",
       "      <td>66426</td>\n",
       "      <td>706</td>\n",
       "      <td>53835</td>\n",
       "      <td>11885</td>\n",
       "    </tr>\n",
       "    <tr>\n",
       "      <th>21</th>\n",
       "      <td>Madhya Pradesh</td>\n",
       "      <td>65490</td>\n",
       "      <td>1426</td>\n",
       "      <td>49992</td>\n",
       "      <td>14072</td>\n",
       "    </tr>\n",
       "    <tr>\n",
       "      <th>36</th>\n",
       "      <td>Telengana***</td>\n",
       "      <td>57142</td>\n",
       "      <td>480</td>\n",
       "      <td>42909</td>\n",
       "      <td>13753</td>\n",
       "    </tr>\n",
       "    <tr>\n",
       "      <th>29</th>\n",
       "      <td>Punjab</td>\n",
       "      <td>55508</td>\n",
       "      <td>1512</td>\n",
       "      <td>38147</td>\n",
       "      <td>15849</td>\n",
       "    </tr>\n",
       "    <tr>\n",
       "      <th>33</th>\n",
       "      <td>Telangana</td>\n",
       "      <td>54059</td>\n",
       "      <td>463</td>\n",
       "      <td>41332</td>\n",
       "      <td>12264</td>\n",
       "    </tr>\n",
       "    <tr>\n",
       "      <th>34</th>\n",
       "      <td>Telangana***</td>\n",
       "      <td>52466</td>\n",
       "      <td>455</td>\n",
       "      <td>40334</td>\n",
       "      <td>11677</td>\n",
       "    </tr>\n",
       "    <tr>\n",
       "      <th>17</th>\n",
       "      <td>Jharkhand</td>\n",
       "      <td>43833</td>\n",
       "      <td>428</td>\n",
       "      <td>28149</td>\n",
       "      <td>15256</td>\n",
       "    </tr>\n",
       "    <tr>\n",
       "      <th>16</th>\n",
       "      <td>Jammu and Kashmir</td>\n",
       "      <td>38223</td>\n",
       "      <td>717</td>\n",
       "      <td>29484</td>\n",
       "      <td>8022</td>\n",
       "    </tr>\n",
       "    <tr>\n",
       "      <th>7</th>\n",
       "      <td>Chhattisgarh</td>\n",
       "      <td>33387</td>\n",
       "      <td>287</td>\n",
       "      <td>17567</td>\n",
       "      <td>15533</td>\n",
       "    </tr>\n",
       "    <tr>\n",
       "      <th>40</th>\n",
       "      <td>Uttarakhand</td>\n",
       "      <td>20398</td>\n",
       "      <td>280</td>\n",
       "      <td>14076</td>\n",
       "      <td>6042</td>\n",
       "    </tr>\n",
       "    <tr>\n",
       "      <th>12</th>\n",
       "      <td>Goa</td>\n",
       "      <td>18006</td>\n",
       "      <td>194</td>\n",
       "      <td>13850</td>\n",
       "      <td>3962</td>\n",
       "    </tr>\n",
       "    <tr>\n",
       "      <th>28</th>\n",
       "      <td>Puducherry</td>\n",
       "      <td>14766</td>\n",
       "      <td>240</td>\n",
       "      <td>9675</td>\n",
       "      <td>4851</td>\n",
       "    </tr>\n",
       "    <tr>\n",
       "      <th>37</th>\n",
       "      <td>Tripura</td>\n",
       "      <td>12702</td>\n",
       "      <td>118</td>\n",
       "      <td>7847</td>\n",
       "      <td>4737</td>\n",
       "    </tr>\n",
       "    <tr>\n",
       "      <th>5</th>\n",
       "      <td>Cases being reassigned to states</td>\n",
       "      <td>9265</td>\n",
       "      <td>0</td>\n",
       "      <td>0</td>\n",
       "      <td>9265</td>\n",
       "    </tr>\n",
       "    <tr>\n",
       "      <th>23</th>\n",
       "      <td>Manipur</td>\n",
       "      <td>6382</td>\n",
       "      <td>29</td>\n",
       "      <td>4450</td>\n",
       "      <td>1903</td>\n",
       "    </tr>\n",
       "    <tr>\n",
       "      <th>15</th>\n",
       "      <td>Himachal Pradesh</td>\n",
       "      <td>6255</td>\n",
       "      <td>40</td>\n",
       "      <td>4688</td>\n",
       "      <td>1527</td>\n",
       "    </tr>\n",
       "    <tr>\n",
       "      <th>6</th>\n",
       "      <td>Chandigarh</td>\n",
       "      <td>4550</td>\n",
       "      <td>57</td>\n",
       "      <td>2551</td>\n",
       "      <td>1942</td>\n",
       "    </tr>\n",
       "    <tr>\n",
       "      <th>2</th>\n",
       "      <td>Arunachal Pradesh</td>\n",
       "      <td>4212</td>\n",
       "      <td>7</td>\n",
       "      <td>2979</td>\n",
       "      <td>1226</td>\n",
       "    </tr>\n",
       "    <tr>\n",
       "      <th>26</th>\n",
       "      <td>Nagaland</td>\n",
       "      <td>4003</td>\n",
       "      <td>9</td>\n",
       "      <td>3201</td>\n",
       "      <td>793</td>\n",
       "    </tr>\n",
       "    <tr>\n",
       "      <th>0</th>\n",
       "      <td>Andaman and Nicobar Islands</td>\n",
       "      <td>3160</td>\n",
       "      <td>46</td>\n",
       "      <td>2714</td>\n",
       "      <td>400</td>\n",
       "    </tr>\n",
       "    <tr>\n",
       "      <th>20</th>\n",
       "      <td>Ladakh</td>\n",
       "      <td>2733</td>\n",
       "      <td>35</td>\n",
       "      <td>1978</td>\n",
       "      <td>720</td>\n",
       "    </tr>\n",
       "    <tr>\n",
       "      <th>24</th>\n",
       "      <td>Meghalaya</td>\n",
       "      <td>2440</td>\n",
       "      <td>12</td>\n",
       "      <td>1235</td>\n",
       "      <td>1193</td>\n",
       "    </tr>\n",
       "    <tr>\n",
       "      <th>9</th>\n",
       "      <td>Dadra and Nagar Haveli and Daman and Diu</td>\n",
       "      <td>2386</td>\n",
       "      <td>2</td>\n",
       "      <td>2122</td>\n",
       "      <td>262</td>\n",
       "    </tr>\n",
       "    <tr>\n",
       "      <th>31</th>\n",
       "      <td>Sikkim</td>\n",
       "      <td>1670</td>\n",
       "      <td>4</td>\n",
       "      <td>1237</td>\n",
       "      <td>429</td>\n",
       "    </tr>\n",
       "    <tr>\n",
       "      <th>25</th>\n",
       "      <td>Mizoram</td>\n",
       "      <td>1020</td>\n",
       "      <td>0</td>\n",
       "      <td>612</td>\n",
       "      <td>408</td>\n",
       "    </tr>\n",
       "    <tr>\n",
       "      <th>38</th>\n",
       "      <td>Unassigned</td>\n",
       "      <td>77</td>\n",
       "      <td>0</td>\n",
       "      <td>0</td>\n",
       "      <td>77</td>\n",
       "    </tr>\n",
       "    <tr>\n",
       "      <th>8</th>\n",
       "      <td>Dadar Nagar Haveli</td>\n",
       "      <td>26</td>\n",
       "      <td>0</td>\n",
       "      <td>2</td>\n",
       "      <td>24</td>\n",
       "    </tr>\n",
       "    <tr>\n",
       "      <th>10</th>\n",
       "      <td>Daman &amp; Diu</td>\n",
       "      <td>2</td>\n",
       "      <td>0</td>\n",
       "      <td>0</td>\n",
       "      <td>2</td>\n",
       "    </tr>\n",
       "  </tbody>\n",
       "</table>\n",
       "</div>"
      ],
      "text/plain": [
       "                        State/UnionTerritory  Confirmed  Deaths   Cured  \\\n",
       "22                               Maharashtra     808306   24903  584537   \n",
       "1                             Andhra Pradesh     445139    4053  339876   \n",
       "32                                Tamil Nadu     433969    7418  374172   \n",
       "18                                 Karnataka     351481    5837  254626   \n",
       "39                             Uttar Pradesh     235757    3542  176677   \n",
       "11                                     Delhi     177060    4462  156728   \n",
       "41                               West Bengal     165721    3283  137616   \n",
       "4                                      Bihar     138349     621  121560   \n",
       "35                                 Telengana     130589     846   97402   \n",
       "3                                      Assam     111724     315   86895   \n",
       "27                                    Odisha     106561     503   80770   \n",
       "13                                   Gujarat      97629    3034   78887   \n",
       "30                                 Rajasthan      83163    1069   68124   \n",
       "19                                    Kerala      76525     298   53649   \n",
       "14                                   Haryana      66426     706   53835   \n",
       "21                            Madhya Pradesh      65490    1426   49992   \n",
       "36                              Telengana***      57142     480   42909   \n",
       "29                                    Punjab      55508    1512   38147   \n",
       "33                                 Telangana      54059     463   41332   \n",
       "34                              Telangana***      52466     455   40334   \n",
       "17                                 Jharkhand      43833     428   28149   \n",
       "16                         Jammu and Kashmir      38223     717   29484   \n",
       "7                               Chhattisgarh      33387     287   17567   \n",
       "40                               Uttarakhand      20398     280   14076   \n",
       "12                                       Goa      18006     194   13850   \n",
       "28                                Puducherry      14766     240    9675   \n",
       "37                                   Tripura      12702     118    7847   \n",
       "5           Cases being reassigned to states       9265       0       0   \n",
       "23                                   Manipur       6382      29    4450   \n",
       "15                          Himachal Pradesh       6255      40    4688   \n",
       "6                                 Chandigarh       4550      57    2551   \n",
       "2                          Arunachal Pradesh       4212       7    2979   \n",
       "26                                  Nagaland       4003       9    3201   \n",
       "0                Andaman and Nicobar Islands       3160      46    2714   \n",
       "20                                    Ladakh       2733      35    1978   \n",
       "24                                 Meghalaya       2440      12    1235   \n",
       "9   Dadra and Nagar Haveli and Daman and Diu       2386       2    2122   \n",
       "31                                    Sikkim       1670       4    1237   \n",
       "25                                   Mizoram       1020       0     612   \n",
       "38                                Unassigned         77       0       0   \n",
       "8                         Dadar Nagar Haveli         26       0       2   \n",
       "10                               Daman & Diu          2       0       0   \n",
       "\n",
       "    Active  \n",
       "22  198866  \n",
       "1   101210  \n",
       "32   52379  \n",
       "18   91018  \n",
       "39   55538  \n",
       "11   15870  \n",
       "41   24822  \n",
       "4    16168  \n",
       "35   32341  \n",
       "3    24514  \n",
       "27   25288  \n",
       "13   15708  \n",
       "30   13970  \n",
       "19   22578  \n",
       "14   11885  \n",
       "21   14072  \n",
       "36   13753  \n",
       "29   15849  \n",
       "33   12264  \n",
       "34   11677  \n",
       "17   15256  \n",
       "16    8022  \n",
       "7    15533  \n",
       "40    6042  \n",
       "12    3962  \n",
       "28    4851  \n",
       "37    4737  \n",
       "5     9265  \n",
       "23    1903  \n",
       "15    1527  \n",
       "6     1942  \n",
       "2     1226  \n",
       "26     793  \n",
       "0      400  \n",
       "20     720  \n",
       "24    1193  \n",
       "9      262  \n",
       "31     429  \n",
       "25     408  \n",
       "38      77  \n",
       "8       24  \n",
       "10       2  "
      ]
     },
     "execution_count": 4,
     "metadata": {},
     "output_type": "execute_result"
    }
   ],
   "source": [
    "state_cases = india_covid_19.groupby('State/UnionTerritory')['Confirmed','Deaths','Cured'].max().reset_index()\n",
    "state_cases = state_cases.astype({'Deaths': 'int'})\n",
    "state_cases['Active'] = state_cases['Confirmed'] - (state_cases['Deaths']+state_cases['Cured'])\n",
    "state_cases.sort_values('Confirmed', ascending= False)"
   ]
  },
  {
   "cell_type": "markdown",
   "metadata": {},
   "source": [
    "# DataPreprocessing"
   ]
  },
  {
   "cell_type": "markdown",
   "metadata": {},
   "source": [
    "***pandas describe() method***\n",
    "\n",
    "I look at the descriptive statistics of the dataframe with the pandas describe() method."
   ]
  },
  {
   "cell_type": "code",
   "execution_count": 5,
   "metadata": {},
   "outputs": [
    {
     "data": {
      "text/html": [
       "<div>\n",
       "<style scoped>\n",
       "    .dataframe tbody tr th:only-of-type {\n",
       "        vertical-align: middle;\n",
       "    }\n",
       "\n",
       "    .dataframe tbody tr th {\n",
       "        vertical-align: top;\n",
       "    }\n",
       "\n",
       "    .dataframe thead th {\n",
       "        text-align: right;\n",
       "    }\n",
       "</style>\n",
       "<table border=\"1\" class=\"dataframe\">\n",
       "  <thead>\n",
       "    <tr style=\"text-align: right;\">\n",
       "      <th></th>\n",
       "      <th>State/UnionTerritory</th>\n",
       "      <th>Confirmed</th>\n",
       "      <th>Deaths</th>\n",
       "      <th>Cured</th>\n",
       "      <th>Active</th>\n",
       "    </tr>\n",
       "  </thead>\n",
       "  <tbody>\n",
       "    <tr>\n",
       "      <th>count</th>\n",
       "      <td>42</td>\n",
       "      <td>42.000000</td>\n",
       "      <td>42.000000</td>\n",
       "      <td>42.000000</td>\n",
       "      <td>42.000000</td>\n",
       "    </tr>\n",
       "    <tr>\n",
       "      <th>unique</th>\n",
       "      <td>42</td>\n",
       "      <td>NaN</td>\n",
       "      <td>NaN</td>\n",
       "      <td>NaN</td>\n",
       "      <td>NaN</td>\n",
       "    </tr>\n",
       "    <tr>\n",
       "      <th>top</th>\n",
       "      <td>Jammu and Kashmir</td>\n",
       "      <td>NaN</td>\n",
       "      <td>NaN</td>\n",
       "      <td>NaN</td>\n",
       "      <td>NaN</td>\n",
       "    </tr>\n",
       "    <tr>\n",
       "      <th>freq</th>\n",
       "      <td>1</td>\n",
       "      <td>NaN</td>\n",
       "      <td>NaN</td>\n",
       "      <td>NaN</td>\n",
       "      <td>NaN</td>\n",
       "    </tr>\n",
       "    <tr>\n",
       "      <th>mean</th>\n",
       "      <td>NaN</td>\n",
       "      <td>93870.476190</td>\n",
       "      <td>1612.642857</td>\n",
       "      <td>72059.166667</td>\n",
       "      <td>20198.666667</td>\n",
       "    </tr>\n",
       "    <tr>\n",
       "      <th>std</th>\n",
       "      <td>NaN</td>\n",
       "      <td>157465.283705</td>\n",
       "      <td>4066.602776</td>\n",
       "      <td>119488.813440</td>\n",
       "      <td>35933.066896</td>\n",
       "    </tr>\n",
       "    <tr>\n",
       "      <th>min</th>\n",
       "      <td>NaN</td>\n",
       "      <td>2.000000</td>\n",
       "      <td>0.000000</td>\n",
       "      <td>0.000000</td>\n",
       "      <td>2.000000</td>\n",
       "    </tr>\n",
       "    <tr>\n",
       "      <th>25%</th>\n",
       "      <td>NaN</td>\n",
       "      <td>4296.500000</td>\n",
       "      <td>30.500000</td>\n",
       "      <td>2780.250000</td>\n",
       "      <td>1301.250000</td>\n",
       "    </tr>\n",
       "    <tr>\n",
       "      <th>50%</th>\n",
       "      <td>NaN</td>\n",
       "      <td>41028.000000</td>\n",
       "      <td>306.500000</td>\n",
       "      <td>28816.500000</td>\n",
       "      <td>11781.000000</td>\n",
       "    </tr>\n",
       "    <tr>\n",
       "      <th>75%</th>\n",
       "      <td>NaN</td>\n",
       "      <td>104328.000000</td>\n",
       "      <td>1013.250000</td>\n",
       "      <td>80299.250000</td>\n",
       "      <td>16093.500000</td>\n",
       "    </tr>\n",
       "    <tr>\n",
       "      <th>max</th>\n",
       "      <td>NaN</td>\n",
       "      <td>808306.000000</td>\n",
       "      <td>24903.000000</td>\n",
       "      <td>584537.000000</td>\n",
       "      <td>198866.000000</td>\n",
       "    </tr>\n",
       "  </tbody>\n",
       "</table>\n",
       "</div>"
      ],
      "text/plain": [
       "       State/UnionTerritory      Confirmed        Deaths          Cured  \\\n",
       "count                    42      42.000000     42.000000      42.000000   \n",
       "unique                   42            NaN           NaN            NaN   \n",
       "top       Jammu and Kashmir            NaN           NaN            NaN   \n",
       "freq                      1            NaN           NaN            NaN   \n",
       "mean                    NaN   93870.476190   1612.642857   72059.166667   \n",
       "std                     NaN  157465.283705   4066.602776  119488.813440   \n",
       "min                     NaN       2.000000      0.000000       0.000000   \n",
       "25%                     NaN    4296.500000     30.500000    2780.250000   \n",
       "50%                     NaN   41028.000000    306.500000   28816.500000   \n",
       "75%                     NaN  104328.000000   1013.250000   80299.250000   \n",
       "max                     NaN  808306.000000  24903.000000  584537.000000   \n",
       "\n",
       "               Active  \n",
       "count       42.000000  \n",
       "unique            NaN  \n",
       "top               NaN  \n",
       "freq              NaN  \n",
       "mean     20198.666667  \n",
       "std      35933.066896  \n",
       "min          2.000000  \n",
       "25%       1301.250000  \n",
       "50%      11781.000000  \n",
       "75%      16093.500000  \n",
       "max     198866.000000  "
      ]
     },
     "execution_count": 5,
     "metadata": {},
     "output_type": "execute_result"
    }
   ],
   "source": [
    "state_cases.describe(include=\"all\")"
   ]
  },
  {
   "cell_type": "markdown",
   "metadata": {},
   "source": [
    "***Data Cleaning***"
   ]
  },
  {
   "cell_type": "code",
   "execution_count": 6,
   "metadata": {},
   "outputs": [
    {
     "data": {
      "text/plain": [
       "(42, 5)"
      ]
     },
     "execution_count": 6,
     "metadata": {},
     "output_type": "execute_result"
    }
   ],
   "source": [
    "state_cases.shape"
   ]
  },
  {
   "cell_type": "code",
   "execution_count": 7,
   "metadata": {},
   "outputs": [],
   "source": [
    "state_cases=state_cases.drop_duplicates()"
   ]
  },
  {
   "cell_type": "code",
   "execution_count": 8,
   "metadata": {},
   "outputs": [
    {
     "data": {
      "text/plain": [
       "(42, 5)"
      ]
     },
     "execution_count": 8,
     "metadata": {},
     "output_type": "execute_result"
    }
   ],
   "source": [
    "state_cases.shape"
   ]
  },
  {
   "cell_type": "markdown",
   "metadata": {},
   "source": [
    "***pandas isnull() method***\n",
    "\n",
    "I viewed the null values of the dataframe with the pandas isnull() method."
   ]
  },
  {
   "cell_type": "code",
   "execution_count": 9,
   "metadata": {},
   "outputs": [
    {
     "data": {
      "text/plain": [
       "State/UnionTerritory    0\n",
       "Confirmed               0\n",
       "Deaths                  0\n",
       "Cured                   0\n",
       "Active                  0\n",
       "dtype: int64"
      ]
     },
     "execution_count": 9,
     "metadata": {},
     "output_type": "execute_result"
    }
   ],
   "source": [
    "state_cases.isnull().sum()"
   ]
  },
  {
   "cell_type": "code",
   "execution_count": 10,
   "metadata": {},
   "outputs": [
    {
     "data": {
      "text/html": [
       "<div>\n",
       "<style scoped>\n",
       "    .dataframe tbody tr th:only-of-type {\n",
       "        vertical-align: middle;\n",
       "    }\n",
       "\n",
       "    .dataframe tbody tr th {\n",
       "        vertical-align: top;\n",
       "    }\n",
       "\n",
       "    .dataframe thead th {\n",
       "        text-align: right;\n",
       "    }\n",
       "</style>\n",
       "<table border=\"1\" class=\"dataframe\">\n",
       "  <thead>\n",
       "    <tr style=\"text-align: right;\">\n",
       "      <th></th>\n",
       "      <th>State/UnionTerritory</th>\n",
       "      <th>Confirmed</th>\n",
       "      <th>Deaths</th>\n",
       "      <th>Cured</th>\n",
       "      <th>Active</th>\n",
       "    </tr>\n",
       "  </thead>\n",
       "  <tbody>\n",
       "    <tr>\n",
       "      <th>0</th>\n",
       "      <td>Andaman and Nicobar Islands</td>\n",
       "      <td>3160</td>\n",
       "      <td>46</td>\n",
       "      <td>2714</td>\n",
       "      <td>400</td>\n",
       "    </tr>\n",
       "    <tr>\n",
       "      <th>1</th>\n",
       "      <td>Andhra Pradesh</td>\n",
       "      <td>445139</td>\n",
       "      <td>4053</td>\n",
       "      <td>339876</td>\n",
       "      <td>101210</td>\n",
       "    </tr>\n",
       "    <tr>\n",
       "      <th>2</th>\n",
       "      <td>Arunachal Pradesh</td>\n",
       "      <td>4212</td>\n",
       "      <td>7</td>\n",
       "      <td>2979</td>\n",
       "      <td>1226</td>\n",
       "    </tr>\n",
       "    <tr>\n",
       "      <th>3</th>\n",
       "      <td>Assam</td>\n",
       "      <td>111724</td>\n",
       "      <td>315</td>\n",
       "      <td>86895</td>\n",
       "      <td>24514</td>\n",
       "    </tr>\n",
       "    <tr>\n",
       "      <th>4</th>\n",
       "      <td>Bihar</td>\n",
       "      <td>138349</td>\n",
       "      <td>621</td>\n",
       "      <td>121560</td>\n",
       "      <td>16168</td>\n",
       "    </tr>\n",
       "  </tbody>\n",
       "</table>\n",
       "</div>"
      ],
      "text/plain": [
       "          State/UnionTerritory  Confirmed  Deaths   Cured  Active\n",
       "0  Andaman and Nicobar Islands       3160      46    2714     400\n",
       "1               Andhra Pradesh     445139    4053  339876  101210\n",
       "2            Arunachal Pradesh       4212       7    2979    1226\n",
       "3                        Assam     111724     315   86895   24514\n",
       "4                        Bihar     138349     621  121560   16168"
      ]
     },
     "execution_count": 10,
     "metadata": {},
     "output_type": "execute_result"
    }
   ],
   "source": [
    "state_cases.head()"
   ]
  },
  {
   "cell_type": "code",
   "execution_count": 11,
   "metadata": {
    "scrolled": true
   },
   "outputs": [
    {
     "data": {
      "text/plain": [
       "(array([[  3160],\n",
       "        [445139],\n",
       "        [  4212],\n",
       "        [111724],\n",
       "        [138349],\n",
       "        [  9265],\n",
       "        [  4550],\n",
       "        [ 33387],\n",
       "        [    26],\n",
       "        [  2386],\n",
       "        [     2],\n",
       "        [177060],\n",
       "        [ 18006],\n",
       "        [ 97629],\n",
       "        [ 66426],\n",
       "        [  6255],\n",
       "        [ 38223],\n",
       "        [ 43833],\n",
       "        [351481],\n",
       "        [ 76525],\n",
       "        [  2733],\n",
       "        [ 65490],\n",
       "        [808306],\n",
       "        [  6382],\n",
       "        [  2440],\n",
       "        [  1020],\n",
       "        [  4003],\n",
       "        [106561],\n",
       "        [ 14766],\n",
       "        [ 55508],\n",
       "        [ 83163],\n",
       "        [  1670],\n",
       "        [433969],\n",
       "        [ 54059],\n",
       "        [ 52466],\n",
       "        [130589],\n",
       "        [ 57142],\n",
       "        [ 12702],\n",
       "        [    77],\n",
       "        [235757],\n",
       "        [ 20398],\n",
       "        [165721]], dtype=int64),\n",
       " array([[  2714],\n",
       "        [339876],\n",
       "        [  2979],\n",
       "        [ 86895],\n",
       "        [121560],\n",
       "        [     0],\n",
       "        [  2551],\n",
       "        [ 17567],\n",
       "        [     2],\n",
       "        [  2122],\n",
       "        [     0],\n",
       "        [156728],\n",
       "        [ 13850],\n",
       "        [ 78887],\n",
       "        [ 53835],\n",
       "        [  4688],\n",
       "        [ 29484],\n",
       "        [ 28149],\n",
       "        [254626],\n",
       "        [ 53649],\n",
       "        [  1978],\n",
       "        [ 49992],\n",
       "        [584537],\n",
       "        [  4450],\n",
       "        [  1235],\n",
       "        [   612],\n",
       "        [  3201],\n",
       "        [ 80770],\n",
       "        [  9675],\n",
       "        [ 38147],\n",
       "        [ 68124],\n",
       "        [  1237],\n",
       "        [374172],\n",
       "        [ 41332],\n",
       "        [ 40334],\n",
       "        [ 97402],\n",
       "        [ 42909],\n",
       "        [  7847],\n",
       "        [     0],\n",
       "        [176677],\n",
       "        [ 14076],\n",
       "        [137616]], dtype=int64))"
      ]
     },
     "execution_count": 11,
     "metadata": {},
     "output_type": "execute_result"
    }
   ],
   "source": [
    "#assigning the dependent and independent variables\n",
    "X = np.array(state_cases[\"Confirmed\"]).reshape(-1, 1) \n",
    "y = np.array(state_cases['Cured']).reshape(-1, 1)\n",
    "X,y"
   ]
  },
  {
   "cell_type": "markdown",
   "metadata": {},
   "source": [
    "# ***Visual exploratory data analysis***\n",
    "\n",
    "I visualize the relationship between X and y by plotting a scatterplot between X and y."
   ]
  },
  {
   "cell_type": "code",
   "execution_count": 12,
   "metadata": {},
   "outputs": [
    {
     "data": {
      "image/png": "[encoded data removed]",
      "text/plain": [
       "<Figure size 432x288 with 1 Axes>"
      ]
     },
     "metadata": {
      "needs_background": "light"
     },
     "output_type": "display_data"
    }
   ],
   "source": [
    "plt.scatter(X, y, color = 'blue', label='Scatter Plot')\n",
    "plt.title('Relationship between Cured and Confirmed')\n",
    "plt.xlabel('Confirmed')\n",
    "plt.ylabel('Cured')\n",
    "\n",
    "plt.show()"
   ]
  },
  {
   "cell_type": "markdown",
   "metadata": {},
   "source": [
    "# Train test split\n",
    "\n",
    "I split the dataset into two sets namely - train set and test set.\n",
    "\n",
    "The model learn the relationships from the training data and predict on test data."
   ]
  },
  {
   "cell_type": "code",
   "execution_count": 13,
   "metadata": {},
   "outputs": [],
   "source": [
    "from sklearn.model_selection import train_test_split\n",
    "X_train, X_test, y_train, y_test = train_test_split(X,y,test_size=0.2,random_state=0)"
   ]
  },
  {
   "cell_type": "code",
   "execution_count": 14,
   "metadata": {},
   "outputs": [
    {
     "data": {
      "text/plain": [
       "((33, 1), (33, 1))"
      ]
     },
     "execution_count": 14,
     "metadata": {},
     "output_type": "execute_result"
    }
   ],
   "source": [
    "X_train.shape,y_train.shape"
   ]
  },
  {
   "cell_type": "code",
   "execution_count": 15,
   "metadata": {},
   "outputs": [
    {
     "data": {
      "text/plain": [
       "((9, 1), (9, 1))"
      ]
     },
     "execution_count": 15,
     "metadata": {},
     "output_type": "execute_result"
    }
   ],
   "source": [
    "X_test.shape,y_test.shape"
   ]
  },
  {
   "cell_type": "markdown",
   "metadata": {},
   "source": [
    "***Instantiate the linear regression object Lg***"
   ]
  },
  {
   "cell_type": "code",
   "execution_count": 16,
   "metadata": {},
   "outputs": [],
   "source": [
    "from sklearn.linear_model import LinearRegression\n",
    "\n",
    "Lr = LinearRegression()"
   ]
  },
  {
   "cell_type": "markdown",
   "metadata": {},
   "source": [
    "***Train the model using training data set***"
   ]
  },
  {
   "cell_type": "code",
   "execution_count": 17,
   "metadata": {},
   "outputs": [
    {
     "data": {
      "text/plain": [
       "LinearRegression()"
      ]
     },
     "execution_count": 17,
     "metadata": {},
     "output_type": "execute_result"
    }
   ],
   "source": [
    "Lr.fit(X_train, y_train)"
   ]
  },
  {
   "cell_type": "markdown",
   "metadata": {},
   "source": [
    "***Predict on the test data***"
   ]
  },
  {
   "cell_type": "code",
   "execution_count": 18,
   "metadata": {},
   "outputs": [],
   "source": [
    "y_pred = Lr.predict(X_test)"
   ]
  },
  {
   "cell_type": "code",
   "execution_count": 19,
   "metadata": {
    "scrolled": true
   },
   "outputs": [
    {
     "data": {
      "text/plain": [
       "(array([[ 63054.05258596],\n",
       "        [ 43456.29769837],\n",
       "        [ 80676.29111868],\n",
       "        [104617.47064164],\n",
       "        [   421.22163376],\n",
       "        [  1187.92984926],\n",
       "        [ 11540.750213  ],\n",
       "        [133772.7179209 ],\n",
       "        [  9986.24554031]]),\n",
       " array([[ 68124],\n",
       "        [ 42909],\n",
       "        [ 80770],\n",
       "        [121560],\n",
       "        [     0],\n",
       "        [   612],\n",
       "        [  9675],\n",
       "        [156728],\n",
       "        [  7847]], dtype=int64))"
      ]
     },
     "execution_count": 19,
     "metadata": {},
     "output_type": "execute_result"
    }
   ],
   "source": [
    "y_pred, y_test"
   ]
  },
  {
   "cell_type": "code",
   "execution_count": 20,
   "metadata": {},
   "outputs": [
    {
     "data": {
      "text/plain": [
       "array([[ 5069.94741404],\n",
       "       [ -547.29769837],\n",
       "       [   93.70888132],\n",
       "       [16942.52935836],\n",
       "       [ -421.22163376],\n",
       "       [ -575.92984926],\n",
       "       [-1865.750213  ],\n",
       "       [22955.2820791 ],\n",
       "       [-2139.24554031]])"
      ]
     },
     "execution_count": 20,
     "metadata": {},
     "output_type": "execute_result"
    }
   ],
   "source": [
    "variance=y_test-y_pred\n",
    "variance"
   ]
  },
  {
   "cell_type": "code",
   "execution_count": 21,
   "metadata": {},
   "outputs": [
    {
     "name": "stdout",
     "output_type": "stream",
     "text": [
      "Estimated model slope, m: [[0.75315149]]\n",
      "Estimated model intercept, c: (array([419.71533078]),)\n"
     ]
    }
   ],
   "source": [
    "m = Lr.coef_\n",
    "c = Lr.intercept_,\n",
    "print(\"Estimated model slope, m:\" , m)\n",
    "print(\"Estimated model intercept, c:\" , c)"
   ]
  },
  {
   "cell_type": "markdown",
   "metadata": {},
   "source": [
    "# So, our fitted regression line is \n",
    "\n",
    "# y = 0.75315149 * x + 419.71533078 \n",
    "\n",
    "# That is our linear model."
   ]
  },
  {
   "cell_type": "markdown",
   "metadata": {},
   "source": [
    "#  ** Prediction"
   ]
  },
  {
   "cell_type": "code",
   "execution_count": 22,
   "metadata": {},
   "outputs": [
    {
     "data": {
      "text/plain": [
       "array([[  2799.67403509],\n",
       "       [335676.81586147],\n",
       "       [  3591.98940121],\n",
       "       [ 84564.81225487],\n",
       "       [104617.47064164]])"
      ]
     },
     "execution_count": 22,
     "metadata": {},
     "output_type": "execute_result"
    }
   ],
   "source": [
    "Lr.predict(X)[0:5]  #prediction on first 5 states"
   ]
  },
  {
   "cell_type": "code",
   "execution_count": 23,
   "metadata": {},
   "outputs": [
    {
     "data": {
      "image/png": "[encoded data removed]",
      "text/plain": [
       "<Figure size 432x288 with 1 Axes>"
      ]
     },
     "metadata": {
      "needs_background": "light"
     },
     "output_type": "display_data"
    }
   ],
   "source": [
    "# visualising the training set results\n",
    "plt.scatter(X_train, y_train,color ='red')\n",
    "plt.plot(X_train, Lr.predict(X_train),color = 'green')\n",
    "plt.title('Cured Vs Confirmed cases')\n",
    "plt.xlabel('Confirmed')\n",
    "plt.ylabel('Cured')\n",
    "plt.show()"
   ]
  },
  {
   "cell_type": "markdown",
   "metadata": {},
   "source": [
    "# RMSE (Root Mean Square Error) and R-Squared Value\n",
    "RMSE is the standard deviation of the residuals. So, RMSE gives us the standard deviation of the unexplained variance by the model. It can be calculated by taking square root of Mean Squared Error. RMSE is an absolute measure of fit. It gives us how spread the residuals are, given by the standard deviation of the residuals. The more concentrated the data is around the regression line, the lower the residuals and hence lower the standard deviation of residuals. It results in lower values of RMSE. So, lower values of RMSE indicate better fit of data."
   ]
  },
  {
   "cell_type": "code",
   "execution_count": 24,
   "metadata": {},
   "outputs": [
    {
     "name": "stdout",
     "output_type": "stream",
     "text": [
      "RMSE value: 9710.0948\n"
     ]
    }
   ],
   "source": [
    "from sklearn.metrics import mean_squared_error\n",
    "mse = mean_squared_error(y_test, y_pred)\n",
    "rmse = np.sqrt(mse)\n",
    "print(\"RMSE value: {:.4f}\".format(rmse))"
   ]
  },
  {
   "cell_type": "markdown",
   "metadata": {},
   "source": [
    "***R2 Score = Explained Variation/Total Variation***\n",
    "\n",
    "In general, the higher the R2 Score value, the better the model fits the data. Usually, its value ranges from 0 to 1. So, we want its value to be as close to 1. Its value can become negative if our model is wrong."
   ]
  },
  {
   "cell_type": "code",
   "execution_count": 25,
   "metadata": {},
   "outputs": [
    {
     "name": "stdout",
     "output_type": "stream",
     "text": [
      "R2 Score value: 0.9674\n"
     ]
    }
   ],
   "source": [
    "# Calculate and print r2_score\n",
    "\n",
    "from sklearn.metrics import r2_score\n",
    "print (\"R2 Score value: {:.4f}\".format(r2_score(y_test, y_pred)))"
   ]
  },
  {
   "cell_type": "markdown",
   "metadata": {},
   "source": [
    "# Interpretation and Conclusion\n",
    "\n",
    "In business decisions, the benchmark for the R2 score value is 0.7. It means if R2 score value >= 0.7, then the model is good enough to deploy on unseen data whereas if R2 score value < 0.7, then the model is not good enough to deploy. Our R2 score value has been found to be .0.9674. It means that this model explains 96.74 % of the variance in our dependent variable. So, the R2 score value confirms that the model is good enough to deploy because it does provide good fit to the data."
   ]
  },
  {
   "cell_type": "code",
   "execution_count": 26,
   "metadata": {},
   "outputs": [
    {
     "name": "stdout",
     "output_type": "stream",
     "text": [
      "Training set score: 0.9940\n",
      "Test set score: 0.9674\n"
     ]
    }
   ],
   "source": [
    "print(\"Training set score: {:.4f}\".format(Lr.score(X_train,y_train)))\n",
    "\n",
    "print(\"Test set score: {:.4f}\".format(Lr.score(X_test,y_test)))"
   ]
  },
  {
   "cell_type": "code",
   "execution_count": null,
   "metadata": {},
   "outputs": [],
   "source": []
  }
 ],
 "metadata": {
  "kernelspec": {
   "display_name": "Python 3",
   "language": "python",
   "name": "python3"
  },
  "language_info": {
   "codemirror_mode": {
    "name": "ipython",
    "version": 3
   },
   "file_extension": ".py",
   "mimetype": "text/x-python",
   "name": "python",
   "nbconvert_exporter": "python",
   "pygments_lexer": "ipython3",
   "version": "3.8.3"
  }
 },
 "nbformat": 4,
 "nbformat_minor": 4
}
